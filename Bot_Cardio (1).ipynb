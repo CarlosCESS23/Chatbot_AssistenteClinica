{
  "cells": [
    {
      "cell_type": "code",
      "execution_count": 1,
      "metadata": {
        "id": "2pbpPihW0iSl"
      },
      "outputs": [],
      "source": [
        "# instale as libs necessárias\n",
        "!pip install -q torch torchvision torchaudio\n",
        "!pip install -q scikit-learn pandas joblib matplotlib seaborn\n",
        "!pip install -q fastapi uvicorn nest_asyncio pyngrok requests"
      ]
    },
    {
      "cell_type": "code",
      "execution_count": 2,
      "metadata": {
        "colab": {
          "base_uri": "https://localhost:8080/"
        },
        "id": "7XPcCtF40i-5",
        "outputId": "80928c0f-0f75-4dd4-eb40-463eb4081c92"
      },
      "outputs": [
        {
          "output_type": "stream",
          "name": "stdout",
          "text": [
            "Mounted at /content/drive\n"
          ]
        }
      ],
      "source": [
        "from google.colab import drive\n",
        "drive.mount('/content/drive')"
      ]
    },
    {
      "cell_type": "code",
      "execution_count": 3,
      "metadata": {
        "colab": {
          "base_uri": "https://localhost:8080/"
        },
        "id": "J61ueXqx1kVZ",
        "outputId": "fafa08a3-847e-4b14-88bf-f92c0192bf3f"
      },
      "outputs": [
        {
          "output_type": "stream",
          "name": "stdout",
          "text": [
            "linhas: 70000\n",
            "Epoch 1/50 loss=0.5691 AUC=0.8000 ACC=0.7347\n",
            "Epoch 2/50 loss=0.5535 AUC=0.8011 ACC=0.7358\n",
            "Epoch 3/50 loss=0.5513 AUC=0.8020 ACC=0.7356\n",
            "Epoch 4/50 loss=0.5496 AUC=0.8021 ACC=0.7330\n",
            "Epoch 5/50 loss=0.5493 AUC=0.8023 ACC=0.7355\n",
            "Epoch 6/50 loss=0.5476 AUC=0.8023 ACC=0.7364\n",
            "Epoch 7/50 loss=0.5472 AUC=0.8021 ACC=0.7361\n",
            "Epoch 8/50 loss=0.5465 AUC=0.8026 ACC=0.7372\n",
            "Epoch 9/50 loss=0.5463 AUC=0.8032 ACC=0.7357\n",
            "Epoch 10/50 loss=0.5456 AUC=0.8028 ACC=0.7381\n",
            "Epoch 11/50 loss=0.5457 AUC=0.8025 ACC=0.7364\n",
            "Epoch 12/50 loss=0.5452 AUC=0.8031 ACC=0.7364\n",
            "Epoch 13/50 loss=0.5444 AUC=0.8027 ACC=0.7349\n",
            "Epoch 14/50 loss=0.5439 AUC=0.8033 ACC=0.7377\n",
            "Epoch 15/50 loss=0.5444 AUC=0.8036 ACC=0.7379\n",
            "Epoch 16/50 loss=0.5434 AUC=0.8032 ACC=0.7374\n",
            "Epoch 17/50 loss=0.5432 AUC=0.8033 ACC=0.7372\n",
            "Epoch 18/50 loss=0.5428 AUC=0.8035 ACC=0.7378\n",
            "Epoch 19/50 loss=0.5429 AUC=0.8028 ACC=0.7354\n",
            "Epoch 20/50 loss=0.5426 AUC=0.8030 ACC=0.7367\n",
            "Epoch 21/50 loss=0.5430 AUC=0.8037 ACC=0.7385\n",
            "Epoch 22/50 loss=0.5426 AUC=0.8033 ACC=0.7379\n",
            "Epoch 23/50 loss=0.5427 AUC=0.8032 ACC=0.7380\n",
            "Epoch 24/50 loss=0.5425 AUC=0.8027 ACC=0.7374\n",
            "Epoch 25/50 loss=0.5425 AUC=0.8027 ACC=0.7371\n",
            "Epoch 26/50 loss=0.5416 AUC=0.8032 ACC=0.7382\n",
            "Epoch 27/50 loss=0.5417 AUC=0.8035 ACC=0.7369\n",
            "Epoch 28/50 loss=0.5418 AUC=0.8032 ACC=0.7382\n",
            "Epoch 29/50 loss=0.5415 AUC=0.8032 ACC=0.7366\n",
            "Epoch 30/50 loss=0.5416 AUC=0.8032 ACC=0.7378\n",
            "Epoch 31/50 loss=0.5418 AUC=0.8033 ACC=0.7377\n",
            "Epoch 32/50 loss=0.5414 AUC=0.8029 ACC=0.7384\n",
            "Epoch 33/50 loss=0.5409 AUC=0.8031 ACC=0.7367\n",
            "Epoch 34/50 loss=0.5411 AUC=0.8035 ACC=0.7366\n",
            "Epoch 35/50 loss=0.5414 AUC=0.8034 ACC=0.7387\n",
            "Epoch 36/50 loss=0.5413 AUC=0.8035 ACC=0.7380\n",
            "Epoch 37/50 loss=0.5409 AUC=0.8036 ACC=0.7385\n",
            "Epoch 38/50 loss=0.5408 AUC=0.8034 ACC=0.7380\n",
            "Epoch 39/50 loss=0.5411 AUC=0.8029 ACC=0.7384\n",
            "Epoch 40/50 loss=0.5406 AUC=0.8031 ACC=0.7371\n",
            "Epoch 41/50 loss=0.5410 AUC=0.8031 ACC=0.7381\n",
            "Epoch 42/50 loss=0.5410 AUC=0.8036 ACC=0.7381\n",
            "Epoch 43/50 loss=0.5404 AUC=0.8028 ACC=0.7371\n",
            "Epoch 44/50 loss=0.5407 AUC=0.8034 ACC=0.7373\n",
            "Epoch 45/50 loss=0.5406 AUC=0.8027 ACC=0.7392\n",
            "Epoch 46/50 loss=0.5402 AUC=0.8026 ACC=0.7383\n",
            "Epoch 47/50 loss=0.5399 AUC=0.8027 ACC=0.7391\n",
            "Epoch 48/50 loss=0.5403 AUC=0.8029 ACC=0.7378\n",
            "Epoch 49/50 loss=0.5406 AUC=0.8032 ACC=0.7371\n",
            "Epoch 50/50 loss=0.5402 AUC=0.8025 ACC=0.7389\n",
            "Modelo salvo: heart_model.pt ; Scaler salvo: scaler.pkl\n"
          ]
        }
      ],
      "source": [
        "# train_model_colab.py (célula única)\n",
        "import pandas as pd\n",
        "import numpy as np\n",
        "from sklearn.model_selection import train_test_split\n",
        "from sklearn.preprocessing import StandardScaler\n",
        "from sklearn.metrics import roc_auc_score, accuracy_score\n",
        "import joblib\n",
        "import torch\n",
        "import torch.nn as nn\n",
        "from torch.utils.data import TensorDataset, DataLoader\n",
        "\n",
        "# ------------- parâmetros -------------\n",
        "DATA_PATH = \"/content/drive/MyDrive/Cardiovascular Disease dataset.zip\"  # ajuste se montou Drive ou nome diferente\n",
        "FEATURES = ['age','gender','ap_hi','ap_lo','cholesterol','gluc','smoke','alco','active','bmi']\n",
        "# ---------------------------------------\n",
        "\n",
        "# 1) carregar\n",
        "df = pd.read_csv(DATA_PATH, sep=';')  # no dataset Kaggle o separador é ';' — ajuste se necessário\n",
        "print(\"linhas:\", len(df))\n",
        "# limpeza básica\n",
        "# converter idade (dias) para anos\n",
        "df['age'] = (df['age'] / 365).round(2)\n",
        "# criar BMI\n",
        "df['bmi'] = df['weight'] / ((df['height']/100)**2)\n",
        "\n",
        "# mapear gender para 0/1 (Kaggle: 1=female, 2=male) -> 0/1\n",
        "if df['gender'].max() > 1:\n",
        "    df['gender'] = df['gender'] - 1\n",
        "\n",
        "    # Filtrar valores absurdos (opcional, recomendado)\n",
        "    df = df[(df['ap_hi'] > 50) & (df['ap_hi'] < 300)]\n",
        "    df = df[(df['ap_lo'] > 30) & (df['ap_lo'] < 200)]\n",
        "    df = df[(df['height'] > 100) & (df['height'] < 230)]\n",
        "    df = df[(df['weight'] > 20) & (df['weight'] < 300)]\n",
        "    df = df.dropna().reset_index(drop=True)\n",
        "\n",
        "    # 2) features e label\n",
        "    X = df[FEATURES].copy()\n",
        "    y = df['cardio'].values  # 0/1\n",
        "\n",
        "    # 3) scaler\n",
        "    scaler = StandardScaler()\n",
        "    X_scaled = scaler.fit_transform(X)\n",
        "\n",
        "    # 4) train/test split\n",
        "    X_train, X_test, y_train, y_test = train_test_split(X_scaled, y, test_size=0.2, random_state=42, stratify=y)\n",
        "\n",
        "    # 5) transformar para tensores\n",
        "    X_train_t = torch.tensor(X_train, dtype=torch.float32)\n",
        "    y_train_t = torch.tensor(y_train, dtype=torch.float32).unsqueeze(1)\n",
        "    X_test_t  = torch.tensor(X_test, dtype=torch.float32)\n",
        "    y_test_t  = torch.tensor(y_test, dtype=torch.float32).unsqueeze(1)\n",
        "\n",
        "    train_ds = TensorDataset(X_train_t, y_train_t)\n",
        "    train_loader = DataLoader(train_ds, batch_size=128, shuffle=True)\n",
        "\n",
        "    # 6) definir a rede\n",
        "    class HeartNN(nn.Module):\n",
        "        def __init__(self, in_dim):\n",
        "            super().__init__()\n",
        "            self.net = nn.Sequential(\n",
        "                nn.Linear(in_dim, 64),\n",
        "                nn.ReLU(),\n",
        "                nn.Dropout(0.25),\n",
        "                nn.Linear(64, 32),\n",
        "                nn.ReLU(),\n",
        "                nn.Linear(32, 1),\n",
        "                nn.Sigmoid()\n",
        "            )\n",
        "        def forward(self, x):\n",
        "            return self.net(x)\n",
        "\n",
        "    device = torch.device('cuda' if torch.cuda.is_available() else 'cpu')\n",
        "    model = HeartNN(len(FEATURES)).to(device)\n",
        "    criterion = nn.BCELoss()\n",
        "    optimizer = torch.optim.Adam(model.parameters(), lr=1e-3)\n",
        "\n",
        "    # 7) treino básico\n",
        "    epochs = 50\n",
        "    for epoch in range(1, epochs+1):\n",
        "        model.train()\n",
        "        total_loss = 0.0\n",
        "        for xb, yb in train_loader:\n",
        "            xb, yb = xb.to(device), yb.to(device)\n",
        "            optimizer.zero_grad()\n",
        "            preds = model(xb)\n",
        "            loss = criterion(preds, yb)\n",
        "            loss.backward()\n",
        "            optimizer.step()\n",
        "            total_loss += loss.item() * xb.size(0)\n",
        "        # avalia no teste\n",
        "        model.eval()\n",
        "        with torch.no_grad():\n",
        "            preds_test = model(X_test_t.to(device)).cpu().numpy().ravel()\n",
        "            auc = roc_auc_score(y_test, preds_test)\n",
        "            preds_bin = (preds_test >= 0.5).astype(int)\n",
        "            acc = accuracy_score(y_test, preds_bin)\n",
        "        print(f\"Epoch {epoch}/{epochs} loss={(total_loss/len(train_ds)):.4f} AUC={auc:.4f} ACC={acc:.4f}\")\n",
        "\n",
        "    # 8) salvar modelo e scaler\n",
        "    torch.save(model.state_dict(), \"heart_model.pt\")\n",
        "    joblib.dump(scaler, \"scaler.pkl\")\n",
        "    print(\"Modelo salvo: heart_model.pt ; Scaler salvo: scaler.pkl\")"
      ]
    },
    {
      "cell_type": "code",
      "execution_count": 4,
      "metadata": {
        "colab": {
          "base_uri": "https://localhost:8080/",
          "height": 1000
        },
        "id": "BxKCMlvI4ect",
        "outputId": "6b7f7c0c-f087-4b41-853e-6d79577247fb"
      },
      "outputs": [
        {
          "output_type": "stream",
          "name": "stdout",
          "text": [
            "Accuracy: 0.7075714285714285\n",
            "ROC AUC: 0.7672830158475152\n",
            "\n",
            "Classification Report:\n",
            "               precision    recall  f1-score   support\n",
            "\n",
            "           0       0.70      0.72      0.71      7004\n",
            "           1       0.71      0.70      0.71      6996\n",
            "\n",
            "    accuracy                           0.71     14000\n",
            "   macro avg       0.71      0.71      0.71     14000\n",
            "weighted avg       0.71      0.71      0.71     14000\n",
            "\n"
          ]
        },
        {
          "output_type": "display_data",
          "data": {
            "text/plain": [
              "<Figure size 640x480 with 2 Axes>"
            ],
            "image/png": "[encoded data removed]"
          },
          "metadata": {}
        },
        {
          "output_type": "display_data",
          "data": {
            "text/plain": [
              "<Figure size 800x400 with 1 Axes>"
            ],
            "image/png": "[encoded data removed]"
          },
          "metadata": {}
        }
      ],
      "source": [
        "# 1. Imports\n",
        "import pandas as pd\n",
        "from sklearn.model_selection import train_test_split\n",
        "from sklearn.preprocessing import StandardScaler\n",
        "from sklearn.metrics import accuracy_score, roc_auc_score, confusion_matrix, classification_report\n",
        "from sklearn.ensemble import RandomForestClassifier\n",
        "import matplotlib.pyplot as plt\n",
        "import seaborn as sns\n",
        "\n",
        "# 2. Carregar dataset\n",
        "df = pd.read_csv(\"/content/drive/MyDrive/Cardiovascular Disease dataset.zip\", sep=\";\")\n",
        "\n",
        "# Feature engineering\n",
        "df['age'] = df['age'] / 365   # converter para anos\n",
        "df['bmi'] = df['weight'] / ((df['height']/100)**2)\n",
        "\n",
        "features = ['age','gender','ap_hi','ap_lo','cholesterol','gluc','smoke','alco','active','bmi']\n",
        "X = df[features].values\n",
        "y = df['cardio'].values\n",
        "\n",
        "# Normalização\n",
        "scaler = StandardScaler()\n",
        "X = scaler.fit_transform(X)\n",
        "\n",
        "# Split\n",
        "X_train, X_test, y_train, y_test = train_test_split(X,y,test_size=0.2,random_state=42,stratify=y)\n",
        "\n",
        "# 3. Treinar Random Forest\n",
        "rf = RandomForestClassifier(n_estimators=200, random_state=42, class_weight=\"balanced\")\n",
        "rf.fit(X_train, y_train)\n",
        "\n",
        "# 4. Avaliar modelo\n",
        "y_pred = rf.predict(X_test)\n",
        "y_prob = rf.predict_proba(X_test)[:,1]\n",
        "\n",
        "print(\"Accuracy:\", accuracy_score(y_test, y_pred))\n",
        "print(\"ROC AUC:\", roc_auc_score(y_test, y_prob))\n",
        "print(\"\\nClassification Report:\\n\", classification_report(y_test, y_pred))\n",
        "\n",
        "# Matriz de confusão\n",
        "cm = confusion_matrix(y_test, y_pred)\n",
        "sns.heatmap(cm, annot=True, fmt=\"d\", cmap=\"Blues\")\n",
        "plt.xlabel(\"Previsto\")\n",
        "plt.ylabel(\"Real\")\n",
        "plt.show()\n",
        "\n",
        "# 5. Importância das variáveis\n",
        "importances = rf.feature_importances_\n",
        "feat_importances = pd.Series(importances, index=features).sort_values(ascending=False)\n",
        "feat_importances.plot(kind='bar', figsize=(8,4))\n",
        "plt.title(\"Importância das Variáveis (Random Forest)\")\n",
        "plt.show()"
      ]
    },
    {
      "cell_type": "code",
      "execution_count": 5,
      "metadata": {
        "colab": {
          "base_uri": "https://localhost:8080/"
        },
        "id": "Gscv9y309Orh",
        "outputId": "63834114-4ab1-42a1-adb7-ed9db27e31ee"
      },
      "outputs": [
        {
          "output_type": "stream",
          "name": "stdout",
          "text": [
            "Métricas salvas em metrics.pkl: {'acuracia': 0.6592142857142858, 'precisao_1': 0.7143958373482366, 'precisao_0': 0.6267166042446941, 'recall': 0.529874213836478, 'f1': 0.6084530160032827}\n"
          ]
        }
      ],
      "source": [
        "from sklearn.metrics import accuracy_score, precision_score, recall_score, f1_score\n",
        "import joblib\n",
        "import numpy as np\n",
        "\n",
        "# previsões no conjunto de teste\n",
        "y_pred = (model(torch.tensor(X_test, dtype=torch.float32)).detach().numpy() > 0.5).astype(int)\n",
        "\n",
        "# salvar métricas em dicionário\n",
        "metrics = {\n",
        "    \"acuracia\": accuracy_score(y_test, y_pred),\n",
        "    \"precisao_1\": precision_score(y_test, y_pred, pos_label=1),\n",
        "    \"precisao_0\": precision_score(y_test, y_pred, pos_label=0),\n",
        "    \"recall\": recall_score(y_test, y_pred),\n",
        "    \"f1\": f1_score(y_test, y_pred)\n",
        "}\n",
        "\n",
        "# salvar em arquivo para carregar no bot\n",
        "joblib.dump(metrics, \"metrics.pkl\")\n",
        "print(\"Métricas salvas em metrics.pkl:\", metrics)"
      ]
    },
    {
      "cell_type": "code",
      "execution_count": 6,
      "metadata": {
        "colab": {
          "base_uri": "https://localhost:8080/"
        },
        "id": "EOb7dv5H2lD8",
        "outputId": "819b1bce-698f-459f-9d54-45f8491ed489"
      },
      "outputs": [
        {
          "output_type": "stream",
          "name": "stdout",
          "text": [
            "Probabilidade: 0.6395558714866638 -> 64.0%\n"
          ]
        },
        {
          "output_type": "stream",
          "name": "stderr",
          "text": [
            "/usr/local/lib/python3.12/dist-packages/sklearn/utils/validation.py:2739: UserWarning: X does not have valid feature names, but StandardScaler was fitted with feature names\n",
            "  warnings.warn(\n"
          ]
        }
      ],
      "source": [
        "import numpy as np, joblib, torch\n",
        "from math import pow\n",
        "\n",
        "# carregar\n",
        "scaler = joblib.load(\"scaler.pkl\")\n",
        "model = HeartNN(len(FEATURES))\n",
        "model.load_state_dict(torch.load(\"heart_model.pt\", map_location=torch.device('cpu')))\n",
        "model.eval()\n",
        "\n",
        "def predict_dict(d):\n",
        "    # d: dict com chaves: age (anos), gender (0/1), ap_hi, ap_lo, cholesterol, gluc, smoke, alco, active, height, weight\n",
        "    # calculamos bmi aqui se o usuário deu peso/altura\n",
        "    if 'bmi' not in d and ('height' in d and 'weight' in d):\n",
        "        d['bmi'] = d['weight'] / ((d['height']/100)**2)\n",
        "    X = np.array([[ d[k] for k in FEATURES ]], dtype=float)\n",
        "    Xs = scaler.transform(X)\n",
        "    xt = torch.tensor(Xs, dtype=torch.float32)\n",
        "    with torch.no_grad():\n",
        "        prob = model(xt).item()\n",
        "    return prob\n",
        "\n",
        "# exemplo\n",
        "ex = {'age':45, 'gender':1, 'ap_hi':130, 'ap_lo':85, 'cholesterol':2, 'gluc':1, 'smoke':0, 'alco':0, 'active':1, 'height':170, 'weight':75}\n",
        "p = predict_dict(ex)\n",
        "print(\"Probabilidade:\", p, \"->\", f\"{p*100:.1f}%\")"
      ]
    },
    {
      "cell_type": "code",
      "execution_count": 7,
      "metadata": {
        "colab": {
          "base_uri": "https://localhost:8080/"
        },
        "id": "STpxqq792sAT",
        "outputId": "a51edbc2-c840-42c5-de67-8668ed8a14b6"
      },
      "outputs": [
        {
          "output_type": "stream",
          "name": "stdout",
          "text": [
            "URL pública (ngrok): https://39879aac919b.ngrok-free.app\n"
          ]
        },
        {
          "output_type": "stream",
          "name": "stderr",
          "text": [
            "WARNING:pyngrok.process.ngrok:t=2025-09-25T12:47:44+0000 lvl=warn msg=\"failed to open private leg\" id=30dc29a16aa5 privaddr=localhost:8000 err=\"dial tcp 127.0.0.1:8000: connect: connection refused\"\n",
            "INFO:     Started server process [356]\n",
            "INFO:     Waiting for application startup.\n",
            "INFO:     Application startup complete.\n",
            "INFO:     Uvicorn running on http://0.0.0.0:8000 (Press CTRL+C to quit)\n"
          ]
        },
        {
          "output_type": "stream",
          "name": "stdout",
          "text": [
            "setWebhook response: {'ok': True, 'result': True, 'description': 'Webhook was set'}\n",
            "INFO:     91.108.5.76:0 - \"POST /webhook/8023980472%3AAAGsr_115dRvxIddQ8lnQL_-28d1k6zt8u0 HTTP/1.1\" 200 OK\n",
            "INFO:     91.108.5.76:0 - \"POST /webhook/8023980472%3AAAGsr_115dRvxIddQ8lnQL_-28d1k6zt8u0 HTTP/1.1\" 200 OK\n",
            "INFO:     91.108.5.76:0 - \"POST /webhook/8023980472%3AAAGsr_115dRvxIddQ8lnQL_-28d1k6zt8u0 HTTP/1.1\" 200 OK\n",
            "INFO:     91.108.5.76:0 - \"POST /webhook/8023980472%3AAAGsr_115dRvxIddQ8lnQL_-28d1k6zt8u0 HTTP/1.1\" 200 OK\n",
            "INFO:     91.108.5.76:0 - \"POST /webhook/8023980472%3AAAGsr_115dRvxIddQ8lnQL_-28d1k6zt8u0 HTTP/1.1\" 200 OK\n",
            "INFO:     91.108.5.76:0 - \"POST /webhook/8023980472%3AAAGsr_115dRvxIddQ8lnQL_-28d1k6zt8u0 HTTP/1.1\" 200 OK\n",
            "INFO:     91.108.5.76:0 - \"POST /webhook/8023980472%3AAAGsr_115dRvxIddQ8lnQL_-28d1k6zt8u0 HTTP/1.1\" 200 OK\n",
            "INFO:     91.108.5.76:0 - \"POST /webhook/8023980472%3AAAGsr_115dRvxIddQ8lnQL_-28d1k6zt8u0 HTTP/1.1\" 200 OK\n",
            "INFO:     91.108.5.76:0 - \"POST /webhook/8023980472%3AAAGsr_115dRvxIddQ8lnQL_-28d1k6zt8u0 HTTP/1.1\" 200 OK\n",
            "INFO:     91.108.5.76:0 - \"POST /webhook/8023980472%3AAAGsr_115dRvxIddQ8lnQL_-28d1k6zt8u0 HTTP/1.1\" 200 OK\n",
            "INFO:     91.108.5.76:0 - \"POST /webhook/8023980472%3AAAGsr_115dRvxIddQ8lnQL_-28d1k6zt8u0 HTTP/1.1\" 200 OK\n",
            "INFO:     91.108.5.76:0 - \"POST /webhook/8023980472%3AAAGsr_115dRvxIddQ8lnQL_-28d1k6zt8u0 HTTP/1.1\" 200 OK\n",
            "INFO:     91.108.5.76:0 - \"POST /webhook/8023980472%3AAAGsr_115dRvxIddQ8lnQL_-28d1k6zt8u0 HTTP/1.1\" 200 OK\n"
          ]
        },
        {
          "output_type": "stream",
          "name": "stderr",
          "text": [
            "/usr/local/lib/python3.12/dist-packages/sklearn/utils/validation.py:2739: UserWarning: X does not have valid feature names, but StandardScaler was fitted with feature names\n",
            "  warnings.warn(\n"
          ]
        },
        {
          "output_type": "stream",
          "name": "stdout",
          "text": [
            "INFO:     91.108.5.76:0 - \"POST /webhook/8023980472%3AAAGsr_115dRvxIddQ8lnQL_-28d1k6zt8u0 HTTP/1.1\" 200 OK\n"
          ]
        },
        {
          "output_type": "stream",
          "name": "stderr",
          "text": [
            "INFO:     Shutting down\n",
            "INFO:     Waiting for application shutdown.\n",
            "INFO:     Application shutdown complete.\n",
            "INFO:     Finished server process [356]\n"
          ]
        }
      ],
      "source": [
        "# webhook_bot_api.py\n",
        "from fastapi import FastAPI, Request\n",
        "import requests, joblib, torch, numpy as np\n",
        "from pyngrok import ngrok\n",
        "import nest_asyncio, uvicorn\n",
        "\n",
        "# --- config: cole seus tokens ---\n",
        "BOT_TOKEN = \"8023980472:AAGsr_115dRvxIddQ8lnQL_-28d1k6zt8u0\"\n",
        "NGROK_TOKEN = \"32qY5dLWWTolN1ycUWtW31QV7LL_4AEYAYkqk3wpj8ZTLYM7G\"\n",
        "# ---------------------------------\n",
        "\n",
        "# carregar scaler e modelo (usa CPU na inferência)\n",
        "scaler = joblib.load(\"scaler.pkl\")\n",
        "# Assuming HeartNN is defined elsewhere in the notebook\n",
        "# If not, you'll need to define it before this cell\n",
        "# from train_model_colab import HeartNN # Uncomment and adjust if HeartNN is in another file\n",
        "class HeartNN(nn.Module):\n",
        "    def __init__(self, in_dim):\n",
        "        super().__init__()\n",
        "        self.net = nn.Sequential(\n",
        "            nn.Linear(in_dim, 64),\n",
        "            nn.ReLU(),\n",
        "            nn.Dropout(0.25),\n",
        "            nn.Linear(64, 32),\n",
        "            nn.ReLU(),\n",
        "            nn.Linear(32, 1),\n",
        "            nn.Sigmoid()\n",
        "        )\n",
        "    def forward(self, x):\n",
        "        return self.net(x)\n",
        "\n",
        "model = HeartNN(10) # Assuming 10 features based on the previous cell\n",
        "model.load_state_dict(torch.load(\"heart_model.pt\", map_location=torch.device('cpu')))\n",
        "model.eval()\n",
        "\n",
        "# dados do estado de conversa (em memória)\n",
        "CONV = {}  # chat_id -> {stage:int, data:dict}\n",
        "\n",
        "QUESTIONS = [\n",
        "    (\"age\", \"Qual sua idade (em anos)?\"),\n",
        "    (\"gender\", \"Qual Seu Sexo? Responda 'M' ou 'F'\"),\n",
        "    (\"height\", \"Qual Sua Altura em cm? (ex: 170)\"),\n",
        "    (\"weight\", \"Qual Seu Peso em kg? (ex: 75)\"),\n",
        "    (\"ap_hi\", \"Qual Sua Pressão sistólica (valor numérico, ex: 120)\"),\n",
        "    (\"ap_lo\", \"Qual Pressão diastólica (ex: 80)\"),\n",
        "    (\"cholesterol\", \"Colesterol (1=Normal, 2=Acima, 3=Muito acima)\"),\n",
        "    (\"gluc\", \"Nível de Glicemia (1=Normal,2=Acima,3=Muito acima)\"),\n",
        "    (\"smoke\", \"Você fuma? Responda 'sim' ou 'não'\"),\n",
        "    (\"alco\", \"Você Consome álcool frequentemente? 'sim'/'não'\"),\n",
        "    (\"active\", \"Você Pratica atividade física? 'sim'/'não'\")\n",
        "]\n",
        "\n",
        "def send_message(chat_id, text):\n",
        "    url = f\"https://api.telegram.org/bot{BOT_TOKEN}/sendMessage\"\n",
        "    requests.post(url, json={\"chat_id\": chat_id, \"text\": text})\n",
        "\n",
        "def normalize_answer(key, text):\n",
        "    text = text.strip().lower()\n",
        "    if key == \"gender\":\n",
        "        if text.startswith('m'):\n",
        "            return 1  # considere 1 = male\n",
        "        else:\n",
        "            return 0  # female\n",
        "    if key in (\"smoke\",\"alco\",\"active\"):\n",
        "        return 1 if text.startswith('s') or text.startswith('y') else 0\n",
        "    try:\n",
        "        return float(text)\n",
        "    except:\n",
        "        return None\n",
        "\n",
        "def compute_probability(data):\n",
        "    # data must contain keys: age, gender, ap_hi, ap_lo, cholesterol, gluc, smoke, alco, active, height, weight or bmi\n",
        "    if 'bmi' not in data:\n",
        "        data['bmi'] = data['weight'] / ((data['height']/100)**2)\n",
        "    FEATURES = ['age','gender','ap_hi','ap_lo','cholesterol','gluc','smoke','alco','active','bmi'] # Define FEATURES here or load from elsewhere\n",
        "    arr = np.array([[ data[k] for k in FEATURES ]], dtype=float)\n",
        "    arrs = scaler.transform(arr)\n",
        "    xt = torch.tensor(arrs, dtype=torch.float32)\n",
        "    with torch.no_grad():\n",
        "        prob = model(xt).item()\n",
        "    return prob\n",
        "\n",
        "app = FastAPI()\n",
        "\n",
        "@app.post(\"/webhook/{token}\")\n",
        "async def telegram_webhook(token: str, request: Request):\n",
        "    if token != BOT_TOKEN:\n",
        "        return {\"ok\": False, \"error\": \"token mismatch\"}\n",
        "    upd = await request.json()\n",
        "    # process message\n",
        "    msg = upd.get(\"message\")\n",
        "    if not msg:\n",
        "        return {\"ok\": True}\n",
        "    chat_id = msg[\"chat\"][\"id\"]\n",
        "    text = msg.get(\"text\", \"\").strip()\n",
        "    # iniciar conversa\n",
        "    if text.lower() == \"/start\":\n",
        "        CONV[chat_id] = {\"stage\": 0, \"data\": {}}\n",
        "        send_message(chat_id, \"Olá! Vou calcular uma estimativa de risco. Preciso de alguns dados. (Sempre responda com números ou 'sim/nao').\")\n",
        "        send_message(chat_id, QUESTIONS[0][1])\n",
        "        return {\"ok\": True}\n",
        "    # se sem conversa, pedir para iniciar\n",
        "    if chat_id not in CONV:\n",
        "        send_message(chat_id, \"Envie /start para começar.\")\n",
        "        return {\"ok\": True}\n",
        "    # pegar estágio atual\n",
        "    stage = CONV[chat_id][\"stage\"]\n",
        "    key = QUESTIONS[stage][0]\n",
        "    val = normalize_answer(key, text)\n",
        "    if val is None:\n",
        "        send_message(chat_id, \"Entrada inválida. Por favor insira um valor numérico ou 'sim/nao'.\")\n",
        "        send_message(chat_id, QUESTIONS[stage][1])\n",
        "        return {\"ok\": True}\n",
        "    # salvar\n",
        "    CONV[chat_id][\"data\"][key] = val\n",
        "    CONV[chat_id][\"stage\"] += 1\n",
        "    # next question or compute\n",
        "    if CONV[chat_id][\"stage\"] < len(QUESTIONS):\n",
        "        send_message(chat_id, QUESTIONS[ CONV[chat_id]['stage'] ][1])\n",
        "    else:\n",
        "        data = CONV[chat_id][\"data\"]\n",
        "        prob = compute_probability(data)\n",
        "        pct = prob * 100\n",
        "\n",
        "        if prob < 0.10:\n",
        "            risk = \"Baixo\"\n",
        "        elif prob < 0.4:\n",
        "            risk = \"Médio\"\n",
        "        else:\n",
        "            risk = \"Alto\"\n",
        "\n",
        "        # resposta detalhada\n",
        "        # Load metrics here as they might not be in the global scope of this function\n",
        "        try:\n",
        "          metrics = joblib.load(\"metrics.pkl\")\n",
        "        except FileNotFoundError:\n",
        "          metrics = {\"acuracia\": 0, \"precisao_0\": 0, \"precisao_1\": 0, \"recall\": 0, \"f1\": 0} # Default if metrics not found\n",
        "\n",
        "        resposta = f\"🧾 Resultado da Avaliação de Risco\\n\\n\"\n",
        "        resposta += f\"📊 Probabilidade estimada de ataque cardíaco em 10 anos: {pct:.1f}%\\n\"\n",
        "        resposta += f\"Risco: {risk}\\n\\n\"\n",
        "        resposta += \"🔍 Sobre o modelo de IA:\\n\"\n",
        "        resposta += f\" • Acurácia: {metrics['acuracia']*100:.2f}%\\n\"\n",
        "        resposta += f\" • Precisão (sem risco): {metrics['precisao_0']*100:.2f}%\\n\"\n",
        "        resposta += f\" • Precisão (com risco): {metrics['precisao_1']*100:.2f}%\\n\"\n",
        "        resposta += f\" • Recall (detecção de risco): {metrics['recall']*100:.2f}%\\n\"\n",
        "        resposta += f\" • F1-Score: {metrics['f1']*100:.2f}%\\n\\n\"\n",
        "        resposta += \"⚠️ Este resultado é apenas uma estimativa. Procure atendimento médico para avaliação completa.\"\n",
        "\n",
        "        send_message(chat_id, resposta)\n",
        "\n",
        "        # limpar conversa\n",
        "        del CONV[chat_id]\n",
        "\n",
        "    return {\"ok\": True}\n",
        "\n"
      ]
    },
    {
      "cell_type": "code",
      "source": [
        "# --- Iniciar ngrok e setar webhook (execute quando pronto) ---\n",
        "ngrok.set_auth_token(NGROK_TOKEN)\n",
        "public_url = ngrok.connect(8000).public_url\n",
        "print(\"URL pública (ngrok):\", public_url)\n",
        "\n",
        "# registrar webhook no Telegram (troque BOT_TOKEN se diferente)\n",
        "resp = requests.get(f'https://api.telegram.org/bot{BOT_TOKEN}/setWebhook?url={public_url}/webhook/{BOT_TOKEN}')\n",
        "print(\"setWebhook response:\", resp.json())\n",
        "\n",
        "# iniciar o servidor (bloqueante) - execute a célula e mantenha ela rodando\n",
        "nest_asyncio.apply()\n",
        "uvicorn.run(app, host=\"0.0.0.0\", port=8000)"
      ],
      "metadata": {
        "colab": {
          "base_uri": "https://localhost:8080/"
        },
        "id": "3prOqlOn9cDl",
        "outputId": "9423c323-24e8-4622-9fcc-6658038fc928"
      },
      "execution_count": 9,
      "outputs": [
        {
          "output_type": "stream",
          "name": "stdout",
          "text": [
            "URL pública (ngrok): https://7911eed45a26.ngrok-free.app\n",
            "setWebhook response: {'ok': True, 'result': True, 'description': 'Webhook was set'}\n"
          ]
        },
        {
          "output_type": "stream",
          "name": "stderr",
          "text": [
            "INFO:     Started server process [356]\n",
            "INFO:     Waiting for application startup.\n",
            "INFO:     Application startup complete.\n",
            "INFO:     Uvicorn running on http://0.0.0.0:8000 (Press CTRL+C to quit)\n"
          ]
        },
        {
          "output_type": "stream",
          "name": "stdout",
          "text": [
            "INFO:     91.108.5.76:0 - \"POST /webhook/8023980472%3AAAGsr_115dRvxIddQ8lnQL_-28d1k6zt8u0 HTTP/1.1\" 200 OK\n",
            "INFO:     91.108.5.76:0 - \"POST /webhook/8023980472%3AAAGsr_115dRvxIddQ8lnQL_-28d1k6zt8u0 HTTP/1.1\" 200 OK\n",
            "INFO:     91.108.5.76:0 - \"POST /webhook/8023980472%3AAAGsr_115dRvxIddQ8lnQL_-28d1k6zt8u0 HTTP/1.1\" 200 OK\n",
            "INFO:     91.108.5.76:0 - \"POST /webhook/8023980472%3AAAGsr_115dRvxIddQ8lnQL_-28d1k6zt8u0 HTTP/1.1\" 200 OK\n",
            "INFO:     91.108.5.76:0 - \"POST /webhook/8023980472%3AAAGsr_115dRvxIddQ8lnQL_-28d1k6zt8u0 HTTP/1.1\" 200 OK\n",
            "INFO:     91.108.5.76:0 - \"POST /webhook/8023980472%3AAAGsr_115dRvxIddQ8lnQL_-28d1k6zt8u0 HTTP/1.1\" 200 OK\n",
            "INFO:     91.108.5.76:0 - \"POST /webhook/8023980472%3AAAGsr_115dRvxIddQ8lnQL_-28d1k6zt8u0 HTTP/1.1\" 200 OK\n",
            "INFO:     91.108.5.76:0 - \"POST /webhook/8023980472%3AAAGsr_115dRvxIddQ8lnQL_-28d1k6zt8u0 HTTP/1.1\" 200 OK\n",
            "INFO:     91.108.5.76:0 - \"POST /webhook/8023980472%3AAAGsr_115dRvxIddQ8lnQL_-28d1k6zt8u0 HTTP/1.1\" 200 OK\n",
            "INFO:     91.108.5.76:0 - \"POST /webhook/8023980472%3AAAGsr_115dRvxIddQ8lnQL_-28d1k6zt8u0 HTTP/1.1\" 200 OK\n",
            "INFO:     91.108.5.76:0 - \"POST /webhook/8023980472%3AAAGsr_115dRvxIddQ8lnQL_-28d1k6zt8u0 HTTP/1.1\" 200 OK\n"
          ]
        },
        {
          "output_type": "stream",
          "name": "stderr",
          "text": [
            "/usr/local/lib/python3.12/dist-packages/sklearn/utils/validation.py:2739: UserWarning: X does not have valid feature names, but StandardScaler was fitted with feature names\n",
            "  warnings.warn(\n"
          ]
        },
        {
          "output_type": "stream",
          "name": "stdout",
          "text": [
            "INFO:     91.108.5.76:0 - \"POST /webhook/8023980472%3AAAGsr_115dRvxIddQ8lnQL_-28d1k6zt8u0 HTTP/1.1\" 200 OK\n"
          ]
        },
        {
          "output_type": "stream",
          "name": "stderr",
          "text": [
            "INFO:     Shutting down\n",
            "INFO:     Waiting for application shutdown.\n",
            "INFO:     Application shutdown complete.\n",
            "INFO:     Finished server process [356]\n"
          ]
        }
      ]
    },
    {
      "cell_type": "code",
      "execution_count": 8,
      "metadata": {
        "id": "7UKYMQEH9d4n"
      },
      "outputs": [],
      "source": [
        "# carregar scaler e modelo\n",
        "scaler = joblib.load(\"scaler.pkl\")\n",
        "model = HeartNN(len(FEATURES))\n",
        "model.load_state_dict(torch.load(\"heart_model.pt\", map_location=torch.device('cpu')))\n",
        "model.eval()\n",
        "\n",
        "# carregar métricas\n",
        "metrics = joblib.load(\"metrics.pkl\")"
      ]
    },
    {
      "cell_type": "code",
      "source": [
        "# Configuração inicial\n",
        "!git config --global user.name \"LucianoCarvalho1998\"\n",
        "!git config --global user.email \"2021006135@ifam.edu.br\"\n"
      ],
      "metadata": {
        "id": "DTJYHxYh_j9N"
      },
      "execution_count": 10,
      "outputs": []
    },
    {
      "cell_type": "code",
      "source": [],
      "metadata": {
        "id": "hGLnol51_7r0"
      },
      "execution_count": null,
      "outputs": []
    }
  ],
  "metadata": {
    "colab": {
      "provenance": []
    },
    "kernelspec": {
      "display_name": "Python 3",
      "name": "python3"
    },
    "language_info": {
      "name": "python"
    }
  },
  "nbformat": 4,
  "nbformat_minor": 0
}